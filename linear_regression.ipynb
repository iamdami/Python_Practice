{
  "nbformat": 4,
  "nbformat_minor": 0,
  "metadata": {
    "colab": {
      "name": "linear_regression.ipynb",
      "provenance": []
    },
    "kernelspec": {
      "name": "python3",
      "display_name": "Python 3"
    },
    "language_info": {
      "name": "python"
    }
  },
  "cells": [
    {
      "cell_type": "code",
      "metadata": {
        "id": "b66dj43pwW5F"
      },
      "source": [
        "import torch\n",
        "import torch.optim as optim\n",
        "# 다양한 최적화 알고리즘 구현해 놓은 패키지"
      ],
      "execution_count": 1,
      "outputs": []
    },
    {
      "cell_type": "code",
      "metadata": {
        "colab": {
          "base_uri": "https://localhost:8080/"
        },
        "id": "g0hJ-dLXwt4B",
        "outputId": "40b29497-c4e4-4545-9f2d-b1d3cd76f9be"
      },
      "source": [
        "torch.manual_seed(1)\n",
        "# seed 함수 호출해 고정\n",
        "# seed 고정해 놓으면 매번 랜덤함수 호출 시 동일한 값 호출"
      ],
      "execution_count": 2,
      "outputs": [
        {
          "output_type": "execute_result",
          "data": {
            "text/plain": [
              "<torch._C.Generator at 0x7f12a7c57ad0>"
            ]
          },
          "metadata": {
            "tags": []
          },
          "execution_count": 2
        }
      ]
    },
    {
      "cell_type": "markdown",
      "metadata": {
        "id": "9OFPFcxnxJao"
      },
      "source": [
        "#Data"
      ]
    },
    {
      "cell_type": "code",
      "metadata": {
        "id": "K1ydFFYvxRBj"
      },
      "source": [
        "# (x1, y1)=(1, 1), (x2, y2)=(2, 2), (x3, y3)=(3, 3)\n",
        "x_train = torch.FloatTensor([[1], [2], [3]])\n",
        "y_train = torch.FloatTensor([[1], [2], [3]])"
      ],
      "execution_count": 4,
      "outputs": []
    },
    {
      "cell_type": "code",
      "metadata": {
        "colab": {
          "base_uri": "https://localhost:8080/"
        },
        "id": "3UJBeT08xzic",
        "outputId": "a56374cc-9618-45a2-c459-f93acda5722e"
      },
      "source": [
        "print(x_train)\n",
        "print(x_train.shape)"
      ],
      "execution_count": 6,
      "outputs": [
        {
          "output_type": "stream",
          "text": [
            "tensor([[1.],\n",
            "        [2.],\n",
            "        [3.]])\n",
            "torch.Size([3, 1])\n"
          ],
          "name": "stdout"
        }
      ]
    },
    {
      "cell_type": "code",
      "metadata": {
        "colab": {
          "base_uri": "https://localhost:8080/"
        },
        "id": "Wn9UGO6Px_6h",
        "outputId": "5d108cfc-9f3d-4b06-e7a9-c2ceabfdd1d8"
      },
      "source": [
        "print(y_train)\n",
        "print(y_train.shape)"
      ],
      "execution_count": 7,
      "outputs": [
        {
          "output_type": "stream",
          "text": [
            "tensor([[1.],\n",
            "        [2.],\n",
            "        [3.]])\n",
            "torch.Size([3, 1])\n"
          ],
          "name": "stdout"
        }
      ]
    },
    {
      "cell_type": "markdown",
      "metadata": {
        "id": "04S7G5KXyRGf"
      },
      "source": [
        "# Weight Initialization"
      ]
    },
    {
      "cell_type": "code",
      "metadata": {
        "colab": {
          "base_uri": "https://localhost:8080/"
        },
        "id": "1ZYLTg2uyYlb",
        "outputId": "f6996307-4e5a-437c-ff33-a4364aa27fa0"
      },
      "source": [
        "W = torch.zeros(1, requires_grad=True)  # 학습용 변수 선언\n",
        "print(W)"
      ],
      "execution_count": 11,
      "outputs": [
        {
          "output_type": "stream",
          "text": [
            "tensor([0.], requires_grad=True)\n"
          ],
          "name": "stdout"
        }
      ]
    },
    {
      "cell_type": "code",
      "metadata": {
        "colab": {
          "base_uri": "https://localhost:8080/"
        },
        "id": "fVq4dIMhygCM",
        "outputId": "1aab8408-a6f8-4e20-86fb-61ac6bcdcaed"
      },
      "source": [
        "b = torch.zeros(1, requires_grad=True)\n",
        "print(b)"
      ],
      "execution_count": 12,
      "outputs": [
        {
          "output_type": "stream",
          "text": [
            "tensor([0.], requires_grad=True)\n"
          ],
          "name": "stdout"
        }
      ]
    },
    {
      "cell_type": "markdown",
      "metadata": {
        "id": "6VBwE-x5ystN"
      },
      "source": [
        "# Hypothesis"
      ]
    },
    {
      "cell_type": "code",
      "metadata": {
        "colab": {
          "base_uri": "https://localhost:8080/"
        },
        "id": "3mox2ys6ywco",
        "outputId": "cf300ae7-4d65-4476-8759-128d015accee"
      },
      "source": [
        "hypothesis = x_train * W + b\n",
        "print(hypothesis)"
      ],
      "execution_count": 13,
      "outputs": [
        {
          "output_type": "stream",
          "text": [
            "tensor([[0.],\n",
            "        [0.],\n",
            "        [0.]], grad_fn=<AddBackward0>)\n"
          ],
          "name": "stdout"
        }
      ]
    },
    {
      "cell_type": "markdown",
      "metadata": {
        "id": "Rqm_BqTXzch-"
      },
      "source": [
        "# Cost"
      ]
    },
    {
      "cell_type": "code",
      "metadata": {
        "colab": {
          "base_uri": "https://localhost:8080/"
        },
        "id": "948ULrLZzffs",
        "outputId": "085a3f04-b779-4904-fcde-77998e01c8c3"
      },
      "source": [
        "print(hypothesis)"
      ],
      "execution_count": 14,
      "outputs": [
        {
          "output_type": "stream",
          "text": [
            "tensor([[0.],\n",
            "        [0.],\n",
            "        [0.]], grad_fn=<AddBackward0>)\n"
          ],
          "name": "stdout"
        }
      ]
    },
    {
      "cell_type": "code",
      "metadata": {
        "colab": {
          "base_uri": "https://localhost:8080/"
        },
        "id": "Z4UCLBUQzk2R",
        "outputId": "c8775ca5-388c-46fa-d1fb-daff0b77127d"
      },
      "source": [
        "print(y_train)"
      ],
      "execution_count": 15,
      "outputs": [
        {
          "output_type": "stream",
          "text": [
            "tensor([[1.],\n",
            "        [2.],\n",
            "        [3.]])\n"
          ],
          "name": "stdout"
        }
      ]
    },
    {
      "cell_type": "code",
      "metadata": {
        "colab": {
          "base_uri": "https://localhost:8080/"
        },
        "id": "GZMXkZicznRr",
        "outputId": "986c8357-7f19-4afb-e066-23be5fd88983"
      },
      "source": [
        "print(hypothesis - y_train)"
      ],
      "execution_count": 16,
      "outputs": [
        {
          "output_type": "stream",
          "text": [
            "tensor([[-1.],\n",
            "        [-2.],\n",
            "        [-3.]], grad_fn=<SubBackward0>)\n"
          ],
          "name": "stdout"
        }
      ]
    },
    {
      "cell_type": "code",
      "metadata": {
        "colab": {
          "base_uri": "https://localhost:8080/"
        },
        "id": "QVeo9cgWzqk1",
        "outputId": "a479064d-a580-45ae-bfcb-c336a45e963d"
      },
      "source": [
        "print((hypothesis - y_train) ** 2)"
      ],
      "execution_count": 17,
      "outputs": [
        {
          "output_type": "stream",
          "text": [
            "tensor([[1.],\n",
            "        [4.],\n",
            "        [9.]], grad_fn=<PowBackward0>)\n"
          ],
          "name": "stdout"
        }
      ]
    },
    {
      "cell_type": "code",
      "metadata": {
        "colab": {
          "base_uri": "https://localhost:8080/"
        },
        "id": "KUTodX6Wzx1T",
        "outputId": "62c92b04-f583-4ab4-889d-7f3d1895d07c"
      },
      "source": [
        "cost = torch.mean((hypothesis - y_train) ** 2)\n",
        "print(cost)"
      ],
      "execution_count": 18,
      "outputs": [
        {
          "output_type": "stream",
          "text": [
            "tensor(4.6667, grad_fn=<MeanBackward0>)\n"
          ],
          "name": "stdout"
        }
      ]
    },
    {
      "cell_type": "markdown",
      "metadata": {
        "id": "X4GJwtpK0Wkp"
      },
      "source": [
        "# Gradient Descent"
      ]
    },
    {
      "cell_type": "code",
      "metadata": {
        "id": "REt2zwv70axm"
      },
      "source": [
        "# learning rate -> lr = 0.01\n",
        "# W := W - alpha * d / dw * cost(w)\n",
        "optimizer = optim.SGD([W, b], lr = 0.01)"
      ],
      "execution_count": 21,
      "outputs": []
    },
    {
      "cell_type": "code",
      "metadata": {
        "id": "6J3XIEfl1MIo"
      },
      "source": [
        "# 옵티마이저 계산\n",
        "optimizer.zero_grad()\n",
        "# cost 계산\n",
        "cost.backward()\n",
        "# 옵티마이저 갱신\n",
        "optimizer.step()"
      ],
      "execution_count": 23,
      "outputs": []
    },
    {
      "cell_type": "code",
      "metadata": {
        "colab": {
          "base_uri": "https://localhost:8080/"
        },
        "id": "jHlCTT0M0rxT",
        "outputId": "d4074a67-9aa5-4209-d25d-8bf290c76ce9"
      },
      "source": [
        "print(W)\n",
        "print(b)"
      ],
      "execution_count": 24,
      "outputs": [
        {
          "output_type": "stream",
          "text": [
            "tensor([0.0933], requires_grad=True)\n",
            "tensor([0.0400], requires_grad=True)\n"
          ],
          "name": "stdout"
        }
      ]
    },
    {
      "cell_type": "markdown",
      "metadata": {
        "id": "mt5MwDss1m0q"
      },
      "source": [
        "check if the hypothesis get better"
      ]
    },
    {
      "cell_type": "code",
      "metadata": {
        "colab": {
          "base_uri": "https://localhost:8080/"
        },
        "id": "o_fKkDcz0wN9",
        "outputId": "0dd244a4-3d7b-41bc-f665-189d1b4c2451"
      },
      "source": [
        "hypothesis = x_train * W + b\n",
        "print(hypothesis)"
      ],
      "execution_count": 25,
      "outputs": [
        {
          "output_type": "stream",
          "text": [
            "tensor([[0.1333],\n",
            "        [0.2267],\n",
            "        [0.3200]], grad_fn=<AddBackward0>)\n"
          ],
          "name": "stdout"
        }
      ]
    },
    {
      "cell_type": "code",
      "metadata": {
        "colab": {
          "base_uri": "https://localhost:8080/"
        },
        "id": "Hs1UNXJf1x7R",
        "outputId": "547fba33-7875-4108-a314-ff220e5f8a39"
      },
      "source": [
        "cost = torch.mean((hypothesis - y_train) ** 2)\n",
        "print(cost)"
      ],
      "execution_count": 26,
      "outputs": [
        {
          "output_type": "stream",
          "text": [
            "tensor(3.6927, grad_fn=<MeanBackward0>)\n"
          ],
          "name": "stdout"
        }
      ]
    },
    {
      "cell_type": "code",
      "metadata": {
        "colab": {
          "base_uri": "https://localhost:8080/"
        },
        "id": "O8SRE71w17OQ",
        "outputId": "58392b0d-ba89-4985-c8bb-8bb7d7b933ab"
      },
      "source": [
        "# data\n",
        "x_train = torch.FloatTensor([[1], [2], [3]])\n",
        "y_train = torch.FloatTensor([[1], [2], [3]])\n",
        "\n",
        "# 모델 초기화\n",
        "W = torch.zeros(1, requires_grad= True)\n",
        "b = torch.zeros(1, requires_grad= True)\n",
        "\n",
        "# 옵티마이저 설정\n",
        "optimizer = optim.SGD([W, b], lr = 0.01)\n",
        "\n",
        "nb_epochs = 1000\n",
        "for epoch in range(nb_epochs + 1):\n",
        "\n",
        "  # H(x) 계산\n",
        "  hypothesis = x_train * W + b\n",
        "\n",
        "  # cost 계산\n",
        "  cost = torch.mean((hypothesis - y_train) ** 2)\n",
        "\n",
        "  # cost로 H(x) 계산\n",
        "  optimizer.zero_grad()\n",
        "  cost.backward()\n",
        "  optimizer.step()\n",
        "\n",
        "  # 100번마다 로그 출력\n",
        "  if epoch % 100 == 0:\n",
        "    print('Epoch {:4d} / {} W: {:.3f}, b: {:.3f} Cost: {:.6f}'.format(\n",
        "        epoch, nb_epochs, W.item(), b.item(), cost.item()\n",
        "    ))"
      ],
      "execution_count": 27,
      "outputs": [
        {
          "output_type": "stream",
          "text": [
            "Epoch    0 / 1000 W: 0.093, b: 0.040 Cost: 4.666667\n",
            "Epoch  100 / 1000 W: 0.873, b: 0.289 Cost: 0.012043\n",
            "Epoch  200 / 1000 W: 0.900, b: 0.227 Cost: 0.007442\n",
            "Epoch  300 / 1000 W: 0.921, b: 0.179 Cost: 0.004598\n",
            "Epoch  400 / 1000 W: 0.938, b: 0.140 Cost: 0.002842\n",
            "Epoch  500 / 1000 W: 0.951, b: 0.110 Cost: 0.001756\n",
            "Epoch  600 / 1000 W: 0.962, b: 0.087 Cost: 0.001085\n",
            "Epoch  700 / 1000 W: 0.970, b: 0.068 Cost: 0.000670\n",
            "Epoch  800 / 1000 W: 0.976, b: 0.054 Cost: 0.000414\n",
            "Epoch  900 / 1000 W: 0.981, b: 0.042 Cost: 0.000256\n",
            "Epoch 1000 / 1000 W: 0.985, b: 0.033 Cost: 0.000158\n"
          ],
          "name": "stdout"
        }
      ]
    },
    {
      "cell_type": "code",
      "metadata": {
        "id": "1vv9xz9Z4K_z"
      },
      "source": [
        ""
      ],
      "execution_count": null,
      "outputs": []
    }
  ]
}